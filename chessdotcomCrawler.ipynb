{
 "cells": [
  {
   "cell_type": "markdown",
   "metadata": {},
   "source": [
    "# Get pro chess player's games\n",
    "chess.com does have an api but those are for games played on their platforms. This class automates getting the games of pro players from this particular page: https://www.chess.com/games. "
   ]
  },
  {
   "cell_type": "code",
   "execution_count": 1,
   "metadata": {},
   "outputs": [],
   "source": [
    "\n",
    "from selenium import webdriver\n",
    "from selenium.webdriver.support import expected_conditions as EC\n",
    "from selenium.webdriver.chrome.options import Options\n",
    "from selenium.webdriver.common.by import By\n",
    "from selenium.webdriver.support.ui import WebDriverWait\n",
    "\n",
    "import time\n",
    "\n",
    "class PlayerGames:\n",
    "    def __init__(self, player):\n",
    "        self.__player = player #player's name: name-surname\n",
    "        \n",
    "        #get the games\n",
    "        self.__getGames()\n",
    "        \n",
    "    def __getGames(self):\n",
    "        games_url = 'https://www.chess.com/games/' + self.__player\n",
    "        \n",
    "        #allow browser to run without gui\n",
    "        chrome_options = Options()\n",
    "#         chrome_options.add_argument(\"--headless\")\n",
    "        \n",
    "        driver = webdriver.Chrome(options=chrome_options)\n",
    "        driver.get(games_url) #go to player's page\n",
    "\n",
    "        i = 0\n",
    "        while True:\n",
    "            #GET THE PLAYER'S GAMES            \n",
    "            \n",
    "            #click checkbox\n",
    "            try:\n",
    "                driver.execute_script(\"arguments[0].click();\", WebDriverWait(driver, 10).until(EC.element_to_be_clickable((By.XPATH, \"//input[@class='master-games-check-all']\"))))\n",
    "            except:\n",
    "                print(\"If the page says something like: 'Your search did not match any games. Please try a new search' then the player you seek has no games there, otherwise just run the program again\")\n",
    "                \n",
    "            driver.execute_script(\"arguments[0].click();\", WebDriverWait(driver, 10).until(EC.element_to_be_clickable((By.XPATH, \"//button[@class='master-games-download-button']\"))))\n",
    "            \n",
    "            #allows user to let chrome download multiple files\n",
    "            if i == 1:\n",
    "                time.sleep(10)\n",
    "            i += 1\n",
    "\n",
    "            nextpage_btn = driver.find_element_by_class_name(\"pagination-next\")\n",
    "            #if there is a next page go to it else we done\n",
    "            if nextpage_btn.get_attribute(\"href\") != None:\n",
    "                driver.execute_script(\"arguments[0].click();\", WebDriverWait(driver, 10).until(EC.element_to_be_clickable((By.CLASS_NAME, \"pagination-next\"))))\n",
    "            else:\n",
    "                print(\"Done downloading\")\n",
    "                \n",
    "                time.sleep(5)\n",
    "                #close browser\n",
    "                driver.close()\n",
    "                \n",
    "                break;        "
   ]
  },
  {
   "cell_type": "markdown",
   "metadata": {},
   "source": [
    "## The Program:\n",
    "input: name of chess player(e.g gary-kasparov)\n",
    "\n",
    "while running: the driver I am using is chrome which requires you to give you permission to download multiple files. The prompt will only appear on page 2 and after you click allow you don't have to do anything about it.\n",
    "\n",
    "output: The download files a saved in your default download path for chrome. "
   ]
  },
  {
   "cell_type": "code",
   "execution_count": 2,
   "metadata": {},
   "outputs": [
    {
     "name": "stdout",
     "output_type": "stream",
     "text": [
      "Enter player name(e.g garry-kasparov): alexandra-botez\n",
      "Done downloading\n"
     ]
    }
   ],
   "source": [
    "\n",
    "name = input(\"Enter player name(e.g garry-kasparov): \")\n",
    "games = PlayerGames(name)"
   ]
  },
  {
   "cell_type": "code",
   "execution_count": null,
   "metadata": {},
   "outputs": [],
   "source": []
  }
 ],
 "metadata": {
  "kernelspec": {
   "display_name": "Python 3",
   "language": "python",
   "name": "python3"
  },
  "language_info": {
   "codemirror_mode": {
    "name": "ipython",
    "version": 3
   },
   "file_extension": ".py",
   "mimetype": "text/x-python",
   "name": "python",
   "nbconvert_exporter": "python",
   "pygments_lexer": "ipython3",
   "version": "3.8.5"
  }
 },
 "nbformat": 4,
 "nbformat_minor": 4
}
